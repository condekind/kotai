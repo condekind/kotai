{
 "cells": [
  {
   "cell_type": "code",
   "execution_count": 1,
   "metadata": {},
   "outputs": [],
   "source": [
    "# Standard libraries\n",
    "import os\n",
    "from pathlib import Path\n",
    "from multiprocessing import Pool\n",
    "from pprint import pprint\n",
    "\n",
    "# External\n",
    "import numpy as np\n",
    "import scipy.stats as stats\n",
    "import pandas as pd\n",
    "import yaml\n",
    "from IPython.display import display\n",
    "\n",
    "# Misc\n",
    "lineSepThin  = ('# --------------------------------------------------------------------------- #')\n",
    "lineSepThick = ('# =========================================================================== #')\n",
    "pd.options.display.float_format = '{:20,.2f}'.format\n",
    "\n",
    "NDEBUG = True"
   ]
  },
  {
   "cell_type": "markdown",
   "metadata": {},
   "source": [
    "<hr>"
   ]
  },
  {
   "cell_type": "code",
   "execution_count": 2,
   "metadata": {},
   "outputs": [
    {
     "name": "stdout",
     "output_type": "stream",
     "text": [
      "Globbing files from directory\n",
      "\n",
      "../tmp/seed_fns\n",
      "\n",
      "with group -> pattern:\n",
      "\n",
      "all_O0    ->    *.d/*_O0.info\n",
      "case0_O1    ->    *.d/*_case0_O1.info\n",
      "case0_Oz    ->    *.d/*_case0_Oz.info\n"
     ]
    }
   ],
   "source": [
    "# Path to the directory with the '.c' files and '.d' dirs\n",
    "benchmarkDir = '../tmp/seed_fns'\n",
    "\n",
    "# Patterns to look for in desired files\n",
    "patterns = {}\n",
    "patterns['all_O0'] = '*.d/*_O0.info'\n",
    "patterns['case0_O1'] = '*.d/*_case0_O1.info'\n",
    "patterns['case0_Oz'] = '*.d/*_case0_Oz.info'\n",
    "\n",
    "print(f'Globbing files from directory\\n\\n{benchmarkDir}\\n\\nwith group -> pattern:\\n')\n",
    "_ = [print(f'{group}    ->    {pat}') for group, pat in patterns.items()]"
   ]
  },
  {
   "cell_type": "code",
   "execution_count": 3,
   "metadata": {},
   "outputs": [
    {
     "name": "stdout",
     "output_type": "stream",
     "text": [
      "Group all_O0:\t\tfound 50688 programs\n",
      "Group case0_O1:\t\tfound 0 programs\n",
      "Group case0_Oz:\t\tfound 0 programs\n"
     ]
    }
   ],
   "source": [
    "infoFilePaths = {group: list(Path(benchmarkDir).glob(pattern)) for group, pattern in patterns.items()}\n",
    "\n",
    "for group, pattern in patterns.items():\n",
    "    print(f'Group {group}:\\t\\tfound {len(infoFilePaths[group])} programs')"
   ]
  },
  {
   "cell_type": "code",
   "execution_count": 4,
   "metadata": {},
   "outputs": [
    {
     "name": "stdout",
     "output_type": "stream",
     "text": [
      "Using 12 core(s)\n",
      "Each cpu core will work on chunks of 512 tasks\n"
     ]
    }
   ],
   "source": [
    "runInParallel = True  # Run in parallel?\n",
    "\n",
    "# Number of cpu cores (remove the `// 2` to use all the cores)\n",
    "nproc = len(os.sched_getaffinity(0)) // 2 if runInParallel else 1\n",
    "print(f'Using {nproc} core(s)')\n",
    "\n",
    "chunksize = 512\n",
    "print(f'Each cpu core will work on chunks of {chunksize} tasks')"
   ]
  },
  {
   "cell_type": "markdown",
   "metadata": {},
   "source": [
    "<hr>"
   ]
  },
  {
   "cell_type": "code",
   "execution_count": 5,
   "metadata": {},
   "outputs": [],
   "source": [
    "def err(msg=None, val=None, *args):\n",
    "\n",
    "    if NDEBUG:\n",
    "        return val\n",
    "\n",
    "    print(msg)\n",
    "    for arg in args:\n",
    "        print(arg)\n",
    "\n",
    "    return val\n",
    "\n",
    "\n",
    "# Loads .info files faster if you have parallel disk access\n",
    "def parseInfo(infoFilePath):\n",
    "\n",
    "    try:\n",
    "        with open(infoFilePath, 'r') as infoFileHandle:\n",
    "            try:\n",
    "                info = yaml.safe_load(infoFileHandle)\n",
    "\n",
    "            except Exception as e:\n",
    "                return err(msg=f'Failed parsing {infoFilePath}: {e}')\n",
    "\n",
    "            else:\n",
    "                if not info:\n",
    "                    return err(f'Info evaluates to False: {infoFilePath}')\n",
    "                \n",
    "                return info[0]\n",
    "\n",
    "    except Exception as e:\n",
    "        return err(f'Failed parsing {infoFilePath}: {e}')\n",
    "\n",
    "\n",
    "# Turns each key in the inner dicts ('static' and 'dynamic') into a key in\n",
    "# the outer dict, e.g., accessing infoFile['static']['instructions'] becomes\n",
    "# infoFile['static_instructions']. This also makes pandas happier.\n",
    "def flattenCfgInfo(cfgInfo, desiredCols=None):\n",
    "    \n",
    "    try: fullName = cfgInfo['name']\n",
    "    except Exception as e:\n",
    "        return err(f'File without the field \"name\"! {e}\\nContents:\\n{cfgInfo}\\n')\n",
    "\n",
    "    try: res = {k: v for k, v in {\n",
    "            'cfg': cfgInfo['cfg'],\n",
    "            'invoked': cfgInfo['invoked'],\n",
    "            'complete': cfgInfo['complete'],\n",
    "            'blocks': cfgInfo['blocks'],\n",
    "            'phantoms': cfgInfo['phantoms'],\n",
    "            'exit': cfgInfo['exit'],\n",
    "            'halt': cfgInfo['halt'],\n",
    "            'edges': cfgInfo['edges'],\n",
    "            'static_instructions': cfgInfo['static']['instructions'],\n",
    "            'static_calls': cfgInfo['static']['calls'],\n",
    "            'static_signals': cfgInfo['static']['signals'],\n",
    "            'dynamic_instructions': cfgInfo['dynamic']['instructions'],\n",
    "            'dynamic_calls': cfgInfo['dynamic']['calls'],\n",
    "            'dynamic_signals': cfgInfo['dynamic']['signals'],\n",
    "            'name': Path(Path(cfgInfo['name']).parent.name).with_suffix('.c'),\n",
    "    }.items() if k in desiredCols}\n",
    "\n",
    "    except Exception as e:\n",
    "        return err(f'Function flattenCfgInfo(cfgInfo, desiredCols) failed for {fullName}: {e}')\n",
    "\n",
    "    else:\n",
    "        return res  # Success"
   ]
  },
  {
   "cell_type": "code",
   "execution_count": 6,
   "metadata": {},
   "outputs": [
    {
     "name": "stdout",
     "output_type": "stream",
     "text": [
      "The desired columns to be included in the dataframe are:\n"
     ]
    },
    {
     "data": {
      "text/html": [
       "<style type=\"text/css\">\n",
       "#T_c0351_ th {\n",
       "  font-size: 18px;\n",
       "}\n",
       "</style>\n",
       "<table id=\"T_c0351_\">\n",
       "  <thead>\n",
       "    <tr>\n",
       "      <th class=\"blank level0\" >&nbsp;</th>\n",
       "      <th class=\"col_heading level0 col0\" >name</th>\n",
       "      <th class=\"col_heading level0 col1\" >static_instructions</th>\n",
       "      <th class=\"col_heading level0 col2\" >dynamic_instructions</th>\n",
       "    </tr>\n",
       "  </thead>\n",
       "  <tbody>\n",
       "  </tbody>\n",
       "</table>\n"
      ],
      "text/plain": [
       "<pandas.io.formats.style.Styler at 0x7fd1ed0e3460>"
      ]
     },
     "execution_count": 6,
     "metadata": {},
     "output_type": "execute_result"
    }
   ],
   "source": [
    "desiredCols = ['name', 'static_instructions', 'dynamic_instructions']\n",
    "\n",
    "print('The desired columns to be included in the dataframe are:')\n",
    "pd.DataFrame([], columns=desiredCols).style.set_table_styles([dict(selector=\"th\", props=[('font-size', '18px')])])"
   ]
  },
  {
   "cell_type": "code",
   "execution_count": 7,
   "metadata": {},
   "outputs": [],
   "source": [
    "tmpdf = {}\n",
    "infoGroups = {}\n",
    "with Pool(nproc) as pool:\n",
    "    for group, files in infoFilePaths.items():\n",
    "        res = pool.imap_unordered(parseInfo, files, chunksize)\n",
    "        infoGroups[group] = [flattenCfgInfo(r, desiredCols) for r in res if r]\n",
    "        tmpdf[group] = pd.DataFrame(infoGroups[group], columns=desiredCols)\n",
    "    pool.close()\n",
    "    pool.join()"
   ]
  },
  {
   "cell_type": "code",
   "execution_count": 8,
   "metadata": {},
   "outputs": [
    {
     "name": "stdout",
     "output_type": "stream",
     "text": [
      "\n",
      "# =========================================================================== #\n",
      "\n",
      "                                     all_O0:\n"
     ]
    },
    {
     "data": {
      "text/html": [
       "<div>\n",
       "<style scoped>\n",
       "    .dataframe tbody tr th:only-of-type {\n",
       "        vertical-align: middle;\n",
       "    }\n",
       "\n",
       "    .dataframe tbody tr th {\n",
       "        vertical-align: top;\n",
       "    }\n",
       "\n",
       "    .dataframe thead th {\n",
       "        text-align: right;\n",
       "    }\n",
       "</style>\n",
       "<table border=\"1\" class=\"dataframe\">\n",
       "  <thead>\n",
       "    <tr style=\"text-align: right;\">\n",
       "      <th></th>\n",
       "      <th>static_instructions</th>\n",
       "      <th>dynamic_instructions</th>\n",
       "    </tr>\n",
       "    <tr>\n",
       "      <th>name</th>\n",
       "      <th></th>\n",
       "      <th></th>\n",
       "    </tr>\n",
       "  </thead>\n",
       "  <tbody>\n",
       "    <tr>\n",
       "      <th>extr_reactosdlldirectxwinewined3dquery.c_wined3d_fence_supported.c</th>\n",
       "      <td>15</td>\n",
       "      <td>15</td>\n",
       "    </tr>\n",
       "    <tr>\n",
       "      <th>extr_linuxdriversnvdimmnd.h_nd_pfn_probe.c</th>\n",
       "      <td>8</td>\n",
       "      <td>8</td>\n",
       "    </tr>\n",
       "    <tr>\n",
       "      <th>extr_linuxdriversnethypervnetvsc_drv.c_netvsc_get_rss_hash_opts.c</th>\n",
       "      <td>25</td>\n",
       "      <td>25</td>\n",
       "    </tr>\n",
       "    <tr>\n",
       "      <th>extr_linuxnetnetfilteripsetip_set_hash_ipportip.c_hash_ipportip6_data_next.c</th>\n",
       "      <td>10</td>\n",
       "      <td>10</td>\n",
       "    </tr>\n",
       "    <tr>\n",
       "      <th>extr_wrksrcae.c_aeSetBeforeSleepProc.c</th>\n",
       "      <td>9</td>\n",
       "      <td>9</td>\n",
       "    </tr>\n",
       "  </tbody>\n",
       "</table>\n",
       "</div>"
      ],
      "text/plain": [
       "                                                    static_instructions  \\\n",
       "name                                                                      \n",
       "extr_reactosdlldirectxwinewined3dquery.c_wined3...                   15   \n",
       "extr_linuxdriversnvdimmnd.h_nd_pfn_probe.c                            8   \n",
       "extr_linuxdriversnethypervnetvsc_drv.c_netvsc_g...                   25   \n",
       "extr_linuxnetnetfilteripsetip_set_hash_ipportip...                   10   \n",
       "extr_wrksrcae.c_aeSetBeforeSleepProc.c                                9   \n",
       "\n",
       "                                                    dynamic_instructions  \n",
       "name                                                                      \n",
       "extr_reactosdlldirectxwinewined3dquery.c_wined3...                    15  \n",
       "extr_linuxdriversnvdimmnd.h_nd_pfn_probe.c                             8  \n",
       "extr_linuxdriversnethypervnetvsc_drv.c_netvsc_g...                    25  \n",
       "extr_linuxnetnetfilteripsetip_set_hash_ipportip...                    10  \n",
       "extr_wrksrcae.c_aeSetBeforeSleepProc.c                                 9  "
      ]
     },
     "metadata": {},
     "output_type": "display_data"
    },
    {
     "name": "stdout",
     "output_type": "stream",
     "text": [
      "\n",
      "static_instructions     int64\n",
      "dynamic_instructions    int64\n",
      "dtype: object\n",
      "\n",
      "       static_instructions  dynamic_instructions\n",
      "count            50,584.00             50,584.00\n",
      "mean                 16.22             47,242.59\n",
      "std                  25.01          3,855,927.38\n",
      "min                   5.00                  5.00\n",
      "25%                   7.00                  7.00\n",
      "50%                  11.00                 11.00\n",
      "75%                  17.00                 17.00\n",
      "max               1,366.00        399,321,603.00\n",
      "\n",
      "# --------------------------------------------------------------------------- #\n"
     ]
    }
   ],
   "source": [
    "print()\n",
    "print(lineSepThick)\n",
    "\n",
    "df = {}\n",
    "for group, infoFiles in infoGroups.items():\n",
    "    df[group] = tmpdf[group].set_index(['name'], verify_integrity=True)\n",
    "    if not len(df[group]): continue\n",
    "    print(f'\\n{\" \"*((80-len(group))//2)}{group}:')\n",
    "    display(df[group].head(5))\n",
    "    print()\n",
    "    print(df[group].dtypes)\n",
    "    print()\n",
    "    print(df[group].describe(include='all'))\n",
    "    print()\n",
    "    print(lineSepThin)"
   ]
  },
  {
   "cell_type": "code",
   "execution_count": 9,
   "metadata": {},
   "outputs": [],
   "source": [
    "# Make sure the path leading to the last prefix directory exists\n",
    "outputPrefix = 'output/cfgInfo'\n",
    "\n",
    "# Warning: [ , . ; : ] are all allowed characters for linux filenames\n",
    "csvSeparator = ';'\n",
    "\n",
    "for group in patterns.keys():\n",
    "    try:\n",
    "        df[group].to_csv(Path(outputPrefix + f'_{group}.csv'), sep=csvSeparator, encoding='utf-8')\n",
    "    except Exception as e:\n",
    "        print(f'{e}')"
   ]
  },
  {
   "cell_type": "markdown",
   "metadata": {},
   "source": [
    "<hr>\n",
    "<h1><center>WIP</center></h1>"
   ]
  },
  {
   "cell_type": "code",
   "execution_count": null,
   "metadata": {},
   "outputs": [],
   "source": [
    "## Todo: quote the field 'name' inside flattenCfgInfo\n",
    "# Whether to properly quote the 'name' field. Useful for working on shells.\n",
    "# WARNING: as the docs state:\n",
    "# '''\n",
    "#     The shlex module is only designed for Unix shells.\n",
    "# '''\n",
    "shellQuoteFileName = True\n",
    "if shellQuoteFileName: import shlex"
   ]
  },
  {
   "cell_type": "code",
   "execution_count": null,
   "metadata": {},
   "outputs": [],
   "source": [
    "# --------------------------------------------------------------------------- #\n",
    "\n",
    "# Instead of running Shapiro on everything, does this make sense?\n",
    "#\n",
    "#  shapiro_result_for_sample = []\n",
    "#  for _ in range(num_of_samples):\n",
    "#     statSample = np.random.choice(df[stat], size=2048, replace=False)\n",
    "#     shapiro_result_for_sample += [scipy.stats.shapiro(statSample)]\n",
    "#\n",
    "#  \"\"\"deviation, variance, median, etc\"\"\"\n",
    "#  printStats(shapiro_result_for_sample)\n",
    "\n",
    "# scipy.stats.shapiro probably does something like that internally, as\n",
    "# it is common with statistic tests, but running it straight away on a\n",
    "# dataset of size > 5000 issues the warning:\n",
    "#\n",
    "#     UserWarning: p-value may not be accurate for N > 5000.\n",
    "#\n",
    "# To reproduce the warning, just run stats.shapiro(df[column]) for the\n",
    "# desired df and stat, e.g., stats.shapiro(df_case0_O1['dyn'])\n",
    "#\n",
    "# I chose to register this because I'm quite skeptical that avoiding\n",
    "# the warning through multiple tests-on-smaller-samples might compromise\n",
    "# the validity of the test. I'm no statistician ¯\\_(ツ)_/¯\n",
    "\n",
    "\n",
    "# One sample only\n",
    "dynSample    = np.random.choice(df['dyn'], size=2048, replace=False)\n",
    "staticSample = np.random.choice(df['static'], size=2048, replace=False)\n",
    "\n",
    "shapiroStaticSample = stats.shapiro(staticSample)\n",
    "shapiroDynSample = stats.shapiro(dynSample)\n",
    "print(shapiroStatic[:10])\n",
    "print(shapiroDyn[:10])\n",
    "\n",
    "\n",
    "# Full dataframe\n",
    "shapiroStatic = stats.shapiro(df['static'])\n",
    "shapiroDyn = stats.shapiro(df['dyn'])\n",
    "print(shapiro_dyn)"
   ]
  }
 ],
 "metadata": {
  "kernelspec": {
   "display_name": "kotai_3.10.0",
   "language": "python",
   "name": "kotai_3.10.0"
  },
  "language_info": {
   "codemirror_mode": {
    "name": "ipython",
    "version": 3
   },
   "file_extension": ".py",
   "mimetype": "text/x-python",
   "name": "python",
   "nbconvert_exporter": "python",
   "pygments_lexer": "ipython3",
   "version": "3.10.0"
  }
 },
 "nbformat": 4,
 "nbformat_minor": 4
}
