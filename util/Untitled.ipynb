{
 "cells": [
  {
   "cell_type": "code",
   "execution_count": 37,
   "metadata": {},
   "outputs": [],
   "source": [
    "from pathlib import Path\n",
    "from pprint import pprint\n",
    "\n",
    "import pandas as pd\n",
    "import yaml"
   ]
  },
  {
   "cell_type": "code",
   "execution_count": 5,
   "metadata": {},
   "outputs": [],
   "source": [
    "infoFilePaths = [ifp for ifp in Path('../tmp/seed_fns').glob('*.d/*.info')]"
   ]
  },
  {
   "cell_type": "code",
   "execution_count": 27,
   "metadata": {},
   "outputs": [],
   "source": [
    "infoList = []\n",
    "for ifp in infoFilePaths[:10]:\n",
    "    try:\n",
    "        with open(ifp, 'r') as infoFileHandle:\n",
    "            try:   info = yaml.safe_load(infoFileHandle)\n",
    "            except Exception as e: continue\n",
    "            else:  infoList += info\n",
    "                \n",
    "    except Exception as e:\n",
    "        continue"
   ]
  },
  {
   "cell_type": "code",
   "execution_count": 177,
   "metadata": {},
   "outputs": [
    {
     "data": {
      "text/plain": [
       "dict"
      ]
     },
     "execution_count": 177,
     "metadata": {},
     "output_type": "execute_result"
    }
   ],
   "source": [
    "type(infoList[0])"
   ]
  },
  {
   "cell_type": "code",
   "execution_count": 184,
   "metadata": {
    "collapsed": true
   },
   "outputs": [
    {
     "data": {
      "text/html": [
       "<div>\n",
       "<style scoped>\n",
       "    .dataframe tbody tr th:only-of-type {\n",
       "        vertical-align: middle;\n",
       "    }\n",
       "\n",
       "    .dataframe tbody tr th {\n",
       "        vertical-align: top;\n",
       "    }\n",
       "\n",
       "    .dataframe thead th {\n",
       "        text-align: right;\n",
       "    }\n",
       "</style>\n",
       "<table border=\"1\" class=\"dataframe\">\n",
       "  <thead>\n",
       "    <tr style=\"text-align: right;\">\n",
       "      <th></th>\n",
       "      <th>cfg</th>\n",
       "      <th>invoked</th>\n",
       "      <th>complete</th>\n",
       "      <th>blocks</th>\n",
       "      <th>phantoms</th>\n",
       "      <th>exit</th>\n",
       "      <th>halt</th>\n",
       "      <th>edges</th>\n",
       "      <th>static</th>\n",
       "      <th>dynamic</th>\n",
       "      <th>name</th>\n",
       "    </tr>\n",
       "  </thead>\n",
       "  <tbody>\n",
       "    <tr>\n",
       "      <th>0</th>\n",
       "      <td>4198800</td>\n",
       "      <td>1</td>\n",
       "      <td>False</td>\n",
       "      <td>6</td>\n",
       "      <td>2</td>\n",
       "      <td>True</td>\n",
       "      <td>False</td>\n",
       "      <td>9</td>\n",
       "      <td>{'instructions': 21, 'calls': 0, 'signals': 0}</td>\n",
       "      <td>{'instructions': 21, 'calls': 0, 'signals': 0}</td>\n",
       "      <td>/home/condekind/repos/kotai/tmp/seed_fns/extr_...</td>\n",
       "    </tr>\n",
       "    <tr>\n",
       "      <th>1</th>\n",
       "      <td>4198832</td>\n",
       "      <td>1</td>\n",
       "      <td>True</td>\n",
       "      <td>1</td>\n",
       "      <td>0</td>\n",
       "      <td>True</td>\n",
       "      <td>False</td>\n",
       "      <td>2</td>\n",
       "      <td>{'instructions': 7, 'calls': 0, 'signals': 0}</td>\n",
       "      <td>{'instructions': 7, 'calls': 0, 'signals': 0}</td>\n",
       "      <td>/home/condekind/repos/kotai/tmp/seed_fns/extr_...</td>\n",
       "    </tr>\n",
       "    <tr>\n",
       "      <th>2</th>\n",
       "      <td>4198784</td>\n",
       "      <td>1</td>\n",
       "      <td>True</td>\n",
       "      <td>1</td>\n",
       "      <td>0</td>\n",
       "      <td>True</td>\n",
       "      <td>False</td>\n",
       "      <td>2</td>\n",
       "      <td>{'instructions': 8, 'calls': 0, 'signals': 0}</td>\n",
       "      <td>{'instructions': 8, 'calls': 0, 'signals': 0}</td>\n",
       "      <td>/home/condekind/repos/kotai/tmp/seed_fns/extr_...</td>\n",
       "    </tr>\n",
       "    <tr>\n",
       "      <th>3</th>\n",
       "      <td>4198784</td>\n",
       "      <td>1</td>\n",
       "      <td>False</td>\n",
       "      <td>5</td>\n",
       "      <td>1</td>\n",
       "      <td>True</td>\n",
       "      <td>False</td>\n",
       "      <td>8</td>\n",
       "      <td>{'instructions': 25, 'calls': 0, 'signals': 0}</td>\n",
       "      <td>{'instructions': 25, 'calls': 0, 'signals': 0}</td>\n",
       "      <td>/home/condekind/repos/kotai/tmp/seed_fns/extr_...</td>\n",
       "    </tr>\n",
       "    <tr>\n",
       "      <th>4</th>\n",
       "      <td>4198832</td>\n",
       "      <td>1</td>\n",
       "      <td>True</td>\n",
       "      <td>1</td>\n",
       "      <td>0</td>\n",
       "      <td>True</td>\n",
       "      <td>False</td>\n",
       "      <td>2</td>\n",
       "      <td>{'instructions': 5, 'calls': 0, 'signals': 0}</td>\n",
       "      <td>{'instructions': 5, 'calls': 0, 'signals': 0}</td>\n",
       "      <td>/home/condekind/repos/kotai/tmp/seed_fns/extr_...</td>\n",
       "    </tr>\n",
       "    <tr>\n",
       "      <th>5</th>\n",
       "      <td>4198832</td>\n",
       "      <td>1</td>\n",
       "      <td>True</td>\n",
       "      <td>1</td>\n",
       "      <td>0</td>\n",
       "      <td>True</td>\n",
       "      <td>False</td>\n",
       "      <td>2</td>\n",
       "      <td>{'instructions': 5, 'calls': 0, 'signals': 0}</td>\n",
       "      <td>{'instructions': 5, 'calls': 0, 'signals': 0}</td>\n",
       "      <td>/home/condekind/repos/kotai/tmp/seed_fns/extr_...</td>\n",
       "    </tr>\n",
       "    <tr>\n",
       "      <th>6</th>\n",
       "      <td>4198832</td>\n",
       "      <td>1</td>\n",
       "      <td>False</td>\n",
       "      <td>5</td>\n",
       "      <td>2</td>\n",
       "      <td>True</td>\n",
       "      <td>False</td>\n",
       "      <td>9</td>\n",
       "      <td>{'instructions': 36, 'calls': 0, 'signals': 0}</td>\n",
       "      <td>{'instructions': 36, 'calls': 0, 'signals': 0}</td>\n",
       "      <td>/home/condekind/repos/kotai/tmp/seed_fns/extr_...</td>\n",
       "    </tr>\n",
       "    <tr>\n",
       "      <th>7</th>\n",
       "      <td>4198832</td>\n",
       "      <td>1</td>\n",
       "      <td>False</td>\n",
       "      <td>2</td>\n",
       "      <td>1</td>\n",
       "      <td>True</td>\n",
       "      <td>False</td>\n",
       "      <td>4</td>\n",
       "      <td>{'instructions': 26, 'calls': 0, 'signals': 0}</td>\n",
       "      <td>{'instructions': 26, 'calls': 0, 'signals': 0}</td>\n",
       "      <td>/home/condekind/repos/kotai/tmp/seed_fns/extr_...</td>\n",
       "    </tr>\n",
       "    <tr>\n",
       "      <th>8</th>\n",
       "      <td>4198832</td>\n",
       "      <td>1</td>\n",
       "      <td>True</td>\n",
       "      <td>1</td>\n",
       "      <td>0</td>\n",
       "      <td>True</td>\n",
       "      <td>False</td>\n",
       "      <td>2</td>\n",
       "      <td>{'instructions': 14, 'calls': 0, 'signals': 0}</td>\n",
       "      <td>{'instructions': 14, 'calls': 0, 'signals': 0}</td>\n",
       "      <td>/home/condekind/repos/kotai/tmp/seed_fns/extr_...</td>\n",
       "    </tr>\n",
       "    <tr>\n",
       "      <th>9</th>\n",
       "      <td>4198832</td>\n",
       "      <td>1</td>\n",
       "      <td>False</td>\n",
       "      <td>4</td>\n",
       "      <td>1</td>\n",
       "      <td>True</td>\n",
       "      <td>False</td>\n",
       "      <td>7</td>\n",
       "      <td>{'instructions': 15, 'calls': 0, 'signals': 0}</td>\n",
       "      <td>{'instructions': 15, 'calls': 0, 'signals': 0}</td>\n",
       "      <td>/home/condekind/repos/kotai/tmp/seed_fns/extr_...</td>\n",
       "    </tr>\n",
       "  </tbody>\n",
       "</table>\n",
       "</div>"
      ],
      "text/plain": [
       "       cfg  invoked  complete  blocks  phantoms  exit   halt  edges  \\\n",
       "0  4198800        1     False       6         2  True  False      9   \n",
       "1  4198832        1      True       1         0  True  False      2   \n",
       "2  4198784        1      True       1         0  True  False      2   \n",
       "3  4198784        1     False       5         1  True  False      8   \n",
       "4  4198832        1      True       1         0  True  False      2   \n",
       "5  4198832        1      True       1         0  True  False      2   \n",
       "6  4198832        1     False       5         2  True  False      9   \n",
       "7  4198832        1     False       2         1  True  False      4   \n",
       "8  4198832        1      True       1         0  True  False      2   \n",
       "9  4198832        1     False       4         1  True  False      7   \n",
       "\n",
       "                                           static  \\\n",
       "0  {'instructions': 21, 'calls': 0, 'signals': 0}   \n",
       "1   {'instructions': 7, 'calls': 0, 'signals': 0}   \n",
       "2   {'instructions': 8, 'calls': 0, 'signals': 0}   \n",
       "3  {'instructions': 25, 'calls': 0, 'signals': 0}   \n",
       "4   {'instructions': 5, 'calls': 0, 'signals': 0}   \n",
       "5   {'instructions': 5, 'calls': 0, 'signals': 0}   \n",
       "6  {'instructions': 36, 'calls': 0, 'signals': 0}   \n",
       "7  {'instructions': 26, 'calls': 0, 'signals': 0}   \n",
       "8  {'instructions': 14, 'calls': 0, 'signals': 0}   \n",
       "9  {'instructions': 15, 'calls': 0, 'signals': 0}   \n",
       "\n",
       "                                          dynamic  \\\n",
       "0  {'instructions': 21, 'calls': 0, 'signals': 0}   \n",
       "1   {'instructions': 7, 'calls': 0, 'signals': 0}   \n",
       "2   {'instructions': 8, 'calls': 0, 'signals': 0}   \n",
       "3  {'instructions': 25, 'calls': 0, 'signals': 0}   \n",
       "4   {'instructions': 5, 'calls': 0, 'signals': 0}   \n",
       "5   {'instructions': 5, 'calls': 0, 'signals': 0}   \n",
       "6  {'instructions': 36, 'calls': 0, 'signals': 0}   \n",
       "7  {'instructions': 26, 'calls': 0, 'signals': 0}   \n",
       "8  {'instructions': 14, 'calls': 0, 'signals': 0}   \n",
       "9  {'instructions': 15, 'calls': 0, 'signals': 0}   \n",
       "\n",
       "                                                name  \n",
       "0  /home/condekind/repos/kotai/tmp/seed_fns/extr_...  \n",
       "1  /home/condekind/repos/kotai/tmp/seed_fns/extr_...  \n",
       "2  /home/condekind/repos/kotai/tmp/seed_fns/extr_...  \n",
       "3  /home/condekind/repos/kotai/tmp/seed_fns/extr_...  \n",
       "4  /home/condekind/repos/kotai/tmp/seed_fns/extr_...  \n",
       "5  /home/condekind/repos/kotai/tmp/seed_fns/extr_...  \n",
       "6  /home/condekind/repos/kotai/tmp/seed_fns/extr_...  \n",
       "7  /home/condekind/repos/kotai/tmp/seed_fns/extr_...  \n",
       "8  /home/condekind/repos/kotai/tmp/seed_fns/extr_...  \n",
       "9  /home/condekind/repos/kotai/tmp/seed_fns/extr_...  "
      ]
     },
     "execution_count": 184,
     "metadata": {},
     "output_type": "execute_result"
    }
   ],
   "source": []
  },
  {
   "cell_type": "code",
   "execution_count": 183,
   "metadata": {},
   "outputs": [
    {
     "data": {
      "text/plain": [
       "MultiIndex([(     'cfg',              0),\n",
       "            ( 'invoked',              0),\n",
       "            ('complete',              0),\n",
       "            (  'blocks',              0),\n",
       "            ('phantoms',              0),\n",
       "            (    'exit',              0),\n",
       "            (    'halt',              0),\n",
       "            (   'edges',              0),\n",
       "            (  'static', 'instructions'),\n",
       "            (  'static',        'calls'),\n",
       "            (  'static',      'signals'),\n",
       "            ( 'dynamic', 'instructions'),\n",
       "            ( 'dynamic',        'calls'),\n",
       "            ( 'dynamic',      'signals'),\n",
       "            (    'name',              0)],\n",
       "           )"
      ]
     },
     "execution_count": 183,
     "metadata": {},
     "output_type": "execute_result"
    }
   ],
   "source": [
    "cols = pd.concat({col: pd.DataFrame([subcol]) for col, subcol in infoList[0].items()}, axis=1).columns\n",
    "cols"
   ]
  },
  {
   "cell_type": "code",
   "execution_count": 39,
   "metadata": {},
   "outputs": [
    {
     "name": "stdout",
     "output_type": "stream",
     "text": [
      "{'blocks': 6,\n",
      " 'cfg': 4198800,\n",
      " 'complete': False,\n",
      " 'dynamic': {'calls': 0, 'instructions': 21, 'signals': 0},\n",
      " 'edges': 9,\n",
      " 'exit': True,\n",
      " 'halt': False,\n",
      " 'invoked': 1,\n",
      " 'name': '/home/condekind/repos/kotai/tmp/seed_fns/extr_linuxdriversgpudrmamddisplaydcbiosbios_parser2.c_get_support_mask_for_device_id.d/extr_linuxdriversgpudrmamddisplaydcbiosbios_parser2.c_get_support_mask_for_device_id_big-arr_O0::get_support_mask_for_device_id(61)',\n",
      " 'phantoms': 2,\n",
      " 'static': {'calls': 0, 'instructions': 21, 'signals': 0}}\n",
      "\n",
      "{'instructions': 21, 'calls': 0, 'signals': 0}\n"
     ]
    }
   ],
   "source": [
    "pprint(infoList[0])\n",
    "print()\n",
    "print(infoList[0]['static'])"
   ]
  },
  {
   "cell_type": "code",
   "execution_count": 55,
   "metadata": {},
   "outputs": [],
   "source": [
    "ff = pd.MultiIndex.from_arrays([[\n",
    "    'name',\n",
    "    'cfg',\n",
    "    'invoked',\n",
    "    'complete',\n",
    "    'blocks',\n",
    "    'phantoms',\n",
    "    'exit',\n",
    "    'halt',\n",
    "    'edges',\n",
    "]])"
   ]
  },
  {
   "cell_type": "code",
   "execution_count": 81,
   "metadata": {},
   "outputs": [
    {
     "data": {
      "text/plain": [
       "MultiIndex([( 'static', 'instructions'),\n",
       "            ( 'static',        'calls'),\n",
       "            ( 'static',      'signals'),\n",
       "            ('dynamic', 'instructions'),\n",
       "            ('dynamic',        'calls'),\n",
       "            ('dynamic',      'signals')],\n",
       "           )"
      ]
     },
     "execution_count": 81,
     "metadata": {},
     "output_type": "execute_result"
    }
   ],
   "source": [
    "gg"
   ]
  },
  {
   "cell_type": "code",
   "execution_count": 79,
   "metadata": {},
   "outputs": [
    {
     "data": {
      "text/plain": [
       "Index([ ('static', 'instructions'),         ('static', 'calls'),\n",
       "             ('static', 'signals'), ('dynamic', 'instructions'),\n",
       "              ('dynamic', 'calls'),      ('dynamic', 'signals'),\n",
       "                         ('name',),                    ('cfg',),\n",
       "                      ('invoked',),               ('complete',),\n",
       "                       ('blocks',),               ('phantoms',),\n",
       "                         ('exit',),                   ('halt',),\n",
       "                        ('edges',)],\n",
       "      dtype='object')"
      ]
     },
     "execution_count": 79,
     "metadata": {},
     "output_type": "execute_result"
    }
   ],
   "source": [
    "gg.append(ff)"
   ]
  },
  {
   "cell_type": "code",
   "execution_count": 153,
   "metadata": {},
   "outputs": [
    {
     "name": "stdout",
     "output_type": "stream",
     "text": [
      "{0: 1000, 1: 2, 2: 1002, 3: 2, 4: 1004, 5: 2, 6: 1006, 7: 2, 8: 1008, 9: 2}\n"
     ]
    }
   ],
   "source": [
    "#ee = [1 if idx % 2 else 0 for idx in range(10)]\n",
    "#print(ee)\n",
    "\n",
    "#d = {k: 10*k for k in range(10)}\n",
    "#print(d)\n",
    "\n",
    "qq = {idx:2 if idx % 2 else idx+1000 for idx in range(10)}\n",
    "print(qq)\n",
    "\n",
    "#if v else k: pd.DataFrame([v])]\n"
   ]
  },
  {
   "cell_type": "code",
   "execution_count": 60,
   "metadata": {},
   "outputs": [],
   "source": [
    "gg = pd.MultiIndex.from_product([['static', 'dynamic'], ['instructions', 'calls', 'signals']])"
   ]
  },
  {
   "cell_type": "code",
   "execution_count": 83,
   "metadata": {},
   "outputs": [
    {
     "data": {
      "text/html": [
       "<div>\n",
       "<style scoped>\n",
       "    .dataframe tbody tr th:only-of-type {\n",
       "        vertical-align: middle;\n",
       "    }\n",
       "\n",
       "    .dataframe tbody tr th {\n",
       "        vertical-align: top;\n",
       "    }\n",
       "\n",
       "    .dataframe thead th {\n",
       "        text-align: right;\n",
       "    }\n",
       "</style>\n",
       "<table border=\"1\" class=\"dataframe\">\n",
       "  <thead>\n",
       "    <tr style=\"text-align: right;\">\n",
       "      <th></th>\n",
       "      <th>(static, instructions)</th>\n",
       "      <th>(static, calls)</th>\n",
       "      <th>(static, signals)</th>\n",
       "      <th>(dynamic, instructions)</th>\n",
       "      <th>(dynamic, calls)</th>\n",
       "      <th>(dynamic, signals)</th>\n",
       "      <th>(name,)</th>\n",
       "      <th>(cfg,)</th>\n",
       "      <th>(invoked,)</th>\n",
       "      <th>(complete,)</th>\n",
       "      <th>(blocks,)</th>\n",
       "      <th>(phantoms,)</th>\n",
       "      <th>(exit,)</th>\n",
       "      <th>(halt,)</th>\n",
       "      <th>(edges,)</th>\n",
       "    </tr>\n",
       "  </thead>\n",
       "  <tbody>\n",
       "  </tbody>\n",
       "</table>\n",
       "</div>"
      ],
      "text/plain": [
       "Empty DataFrame\n",
       "Columns: [(static, instructions), (static, calls), (static, signals), (dynamic, instructions), (dynamic, calls), (dynamic, signals), (name,), (cfg,), (invoked,), (complete,), (blocks,), (phantoms,), (exit,), (halt,), (edges,)]\n",
       "Index: []"
      ]
     },
     "execution_count": 83,
     "metadata": {},
     "output_type": "execute_result"
    }
   ],
   "source": [
    "pd.DataFrame(columns=gg.append(ff))"
   ]
  },
  {
   "cell_type": "code",
   "execution_count": 180,
   "metadata": {},
   "outputs": [
    {
     "ename": "ValueError",
     "evalue": "DataFrame constructor not properly called!",
     "output_type": "error",
     "traceback": [
      "\u001b[0;31m---------------------------------------------------------------------------\u001b[0m",
      "\u001b[0;31mValueError\u001b[0m                                Traceback (most recent call last)",
      "\u001b[0;32m/tmp/ipykernel_107241/3012605118.py\u001b[0m in \u001b[0;36m<module>\u001b[0;34m\u001b[0m\n\u001b[0;32m----> 1\u001b[0;31m \u001b[0mdf\u001b[0m \u001b[0;34m=\u001b[0m \u001b[0mpd\u001b[0m\u001b[0;34m.\u001b[0m\u001b[0mconcat\u001b[0m\u001b[0;34m(\u001b[0m\u001b[0;34m{\u001b[0m\u001b[0mk\u001b[0m\u001b[0;34m:\u001b[0m \u001b[0mpd\u001b[0m\u001b[0;34m.\u001b[0m\u001b[0mDataFrame\u001b[0m\u001b[0;34m(\u001b[0m\u001b[0mv\u001b[0m\u001b[0;34m)\u001b[0m \u001b[0;32mfor\u001b[0m \u001b[0mk\u001b[0m\u001b[0;34m,\u001b[0m \u001b[0mv\u001b[0m \u001b[0;32min\u001b[0m \u001b[0minfoList\u001b[0m\u001b[0;34m[\u001b[0m\u001b[0;36m0\u001b[0m\u001b[0;34m]\u001b[0m\u001b[0;34m.\u001b[0m\u001b[0mitems\u001b[0m\u001b[0;34m(\u001b[0m\u001b[0;34m)\u001b[0m\u001b[0;34m}\u001b[0m\u001b[0;34m)\u001b[0m\u001b[0;34m\u001b[0m\u001b[0;34m\u001b[0m\u001b[0m\n\u001b[0m",
      "\u001b[0;32m/tmp/ipykernel_107241/3012605118.py\u001b[0m in \u001b[0;36m<dictcomp>\u001b[0;34m(.0)\u001b[0m\n\u001b[0;32m----> 1\u001b[0;31m \u001b[0mdf\u001b[0m \u001b[0;34m=\u001b[0m \u001b[0mpd\u001b[0m\u001b[0;34m.\u001b[0m\u001b[0mconcat\u001b[0m\u001b[0;34m(\u001b[0m\u001b[0;34m{\u001b[0m\u001b[0mk\u001b[0m\u001b[0;34m:\u001b[0m \u001b[0mpd\u001b[0m\u001b[0;34m.\u001b[0m\u001b[0mDataFrame\u001b[0m\u001b[0;34m(\u001b[0m\u001b[0mv\u001b[0m\u001b[0;34m)\u001b[0m \u001b[0;32mfor\u001b[0m \u001b[0mk\u001b[0m\u001b[0;34m,\u001b[0m \u001b[0mv\u001b[0m \u001b[0;32min\u001b[0m \u001b[0minfoList\u001b[0m\u001b[0;34m[\u001b[0m\u001b[0;36m0\u001b[0m\u001b[0;34m]\u001b[0m\u001b[0;34m.\u001b[0m\u001b[0mitems\u001b[0m\u001b[0;34m(\u001b[0m\u001b[0;34m)\u001b[0m\u001b[0;34m}\u001b[0m\u001b[0;34m)\u001b[0m\u001b[0;34m\u001b[0m\u001b[0;34m\u001b[0m\u001b[0m\n\u001b[0m",
      "\u001b[0;32m~/repos/kotai/.venv/lib/python3.10/site-packages/pandas/core/frame.py\u001b[0m in \u001b[0;36m__init__\u001b[0;34m(self, data, index, columns, dtype, copy)\u001b[0m\n\u001b[1;32m    728\u001b[0m         \u001b[0;32melse\u001b[0m\u001b[0;34m:\u001b[0m\u001b[0;34m\u001b[0m\u001b[0;34m\u001b[0m\u001b[0m\n\u001b[1;32m    729\u001b[0m             \u001b[0;32mif\u001b[0m \u001b[0mindex\u001b[0m \u001b[0;32mis\u001b[0m \u001b[0;32mNone\u001b[0m \u001b[0;32mor\u001b[0m \u001b[0mcolumns\u001b[0m \u001b[0;32mis\u001b[0m \u001b[0;32mNone\u001b[0m\u001b[0;34m:\u001b[0m\u001b[0;34m\u001b[0m\u001b[0;34m\u001b[0m\u001b[0m\n\u001b[0;32m--> 730\u001b[0;31m                 \u001b[0;32mraise\u001b[0m \u001b[0mValueError\u001b[0m\u001b[0;34m(\u001b[0m\u001b[0;34m\"DataFrame constructor not properly called!\"\u001b[0m\u001b[0;34m)\u001b[0m\u001b[0;34m\u001b[0m\u001b[0;34m\u001b[0m\u001b[0m\n\u001b[0m\u001b[1;32m    731\u001b[0m \u001b[0;34m\u001b[0m\u001b[0m\n\u001b[1;32m    732\u001b[0m             \u001b[0;31m# Argument 1 to \"ensure_index\" has incompatible type \"Collection[Any]\";\u001b[0m\u001b[0;34m\u001b[0m\u001b[0;34m\u001b[0m\u001b[0m\n",
      "\u001b[0;31mValueError\u001b[0m: DataFrame constructor not properly called!"
     ]
    }
   ],
   "source": [
    "df = pd.concat({k: pd.DataFrame(v) for k, v in infoList[0].items()})"
   ]
  },
  {
   "cell_type": "code",
   "execution_count": 181,
   "metadata": {},
   "outputs": [
    {
     "ename": "NameError",
     "evalue": "name 'dictionary' is not defined",
     "output_type": "error",
     "traceback": [
      "\u001b[0;31m---------------------------------------------------------------------------\u001b[0m",
      "\u001b[0;31mNameError\u001b[0m                                 Traceback (most recent call last)",
      "\u001b[0;32m/tmp/ipykernel_107241/3352941519.py\u001b[0m in \u001b[0;36m<module>\u001b[0;34m\u001b[0m\n\u001b[0;32m----> 1\u001b[0;31m \u001b[0mdf\u001b[0m \u001b[0;34m=\u001b[0m \u001b[0mpd\u001b[0m\u001b[0;34m.\u001b[0m\u001b[0mDataFrame\u001b[0m\u001b[0;34m.\u001b[0m\u001b[0mfrom_dict\u001b[0m\u001b[0;34m(\u001b[0m\u001b[0mdictionary\u001b[0m\u001b[0;34m,\u001b[0m \u001b[0morient\u001b[0m\u001b[0;34m=\u001b[0m\u001b[0;34m\"index\"\u001b[0m\u001b[0;34m)\u001b[0m\u001b[0;34m.\u001b[0m\u001b[0mstack\u001b[0m\u001b[0;34m(\u001b[0m\u001b[0;34m)\u001b[0m\u001b[0;34m.\u001b[0m\u001b[0mto_frame\u001b[0m\u001b[0;34m(\u001b[0m\u001b[0;34m)\u001b[0m\u001b[0;34m\u001b[0m\u001b[0;34m\u001b[0m\u001b[0m\n\u001b[0m\u001b[1;32m      2\u001b[0m \u001b[0;31m# to break out the lists into columns\u001b[0m\u001b[0;34m\u001b[0m\u001b[0;34m\u001b[0m\u001b[0m\n\u001b[1;32m      3\u001b[0m \u001b[0mdf\u001b[0m \u001b[0;34m=\u001b[0m \u001b[0mpd\u001b[0m\u001b[0;34m.\u001b[0m\u001b[0mDataFrame\u001b[0m\u001b[0;34m(\u001b[0m\u001b[0mdf\u001b[0m\u001b[0;34m[\u001b[0m\u001b[0;36m0\u001b[0m\u001b[0;34m]\u001b[0m\u001b[0;34m.\u001b[0m\u001b[0mvalues\u001b[0m\u001b[0;34m.\u001b[0m\u001b[0mtolist\u001b[0m\u001b[0;34m(\u001b[0m\u001b[0;34m)\u001b[0m\u001b[0;34m,\u001b[0m \u001b[0mindex\u001b[0m\u001b[0;34m=\u001b[0m\u001b[0mdf\u001b[0m\u001b[0;34m.\u001b[0m\u001b[0mindex\u001b[0m\u001b[0;34m)\u001b[0m\u001b[0;34m\u001b[0m\u001b[0;34m\u001b[0m\u001b[0m\n",
      "\u001b[0;31mNameError\u001b[0m: name 'dictionary' is not defined"
     ]
    }
   ],
   "source": [
    "df = pd.DataFrame.from_dict(dictionary, orient=\"index\").stack().to_frame()\n",
    "# to break out the lists into columns\n",
    "df = pd.DataFrame(df[0].values.tolist(), index=df.index)"
   ]
  }
 ],
 "metadata": {
  "kernelspec": {
   "display_name": "kotai_3.10.0",
   "language": "python",
   "name": "kotai_3.10.0"
  },
  "language_info": {
   "codemirror_mode": {
    "name": "ipython",
    "version": 3
   },
   "file_extension": ".py",
   "mimetype": "text/x-python",
   "name": "python",
   "nbconvert_exporter": "python",
   "pygments_lexer": "ipython3",
   "version": "3.10.0"
  }
 },
 "nbformat": 4,
 "nbformat_minor": 4
}
